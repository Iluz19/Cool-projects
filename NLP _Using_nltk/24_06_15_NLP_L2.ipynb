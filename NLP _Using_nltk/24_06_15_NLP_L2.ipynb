{
 "cells": [
  {
   "cell_type": "code",
   "execution_count": 41,
   "metadata": {},
   "outputs": [
    {
     "name": "stderr",
     "output_type": "stream",
     "text": [
      "[nltk_data] Downloading package reuters to\n",
      "[nltk_data]     /Users/eilonzohar/nltk_data...\n",
      "[nltk_data]   Package reuters is already up-to-date!\n"
     ]
    }
   ],
   "source": [
    "import nltk\n",
    "import numpy as np\n",
    "import pandas as pd\n",
    "from nltk.tokenize import word_tokenize, sent_tokenize\n",
    "nltk.download('reuters')\n",
    "from nltk.corpus import reuters\n",
    "\n",
    "from nltk.corpus import stopwords\n",
    "from nltk.stem import PorterStemmer, WordNetLemmatizer\n",
    "from nltk.tokenize import word_tokenize\n",
    "\n",
    "from nltk.classify import NaiveBayesClassifier\n",
    "import random"
   ]
  },
  {
   "cell_type": "code",
   "execution_count": 21,
   "metadata": {},
   "outputs": [],
   "source": [
    "file_ids = reuters.fileids ()\n",
    "Categories = reuters.categories ()"
   ]
  },
  {
   "cell_type": "markdown",
   "metadata": {},
   "source": [
    "## 1. Text Classification"
   ]
  },
  {
   "cell_type": "code",
   "execution_count": 22,
   "metadata": {},
   "outputs": [],
   "source": [
    "categories = ['crude', 'grain']\n",
    "documents = [(reuters.words(fileid), category)\n",
    "             for category in categories\n",
    "             for fileid in reuters.fileids(category)]\n",
    "\n",
    "random.shuffle(documents)"
   ]
  },
  {
   "cell_type": "code",
   "execution_count": 54,
   "metadata": {},
   "outputs": [
    {
     "name": "stdout",
     "output_type": "stream",
     "text": [
      "Accuracy: 0.89\n",
      "Most Informative Features\n",
      "         contains(wheat) = True            grain : crude  =    135.1 : 1.0\n",
      "             contains(;) = True            crude : grain  =     90.9 : 1.0\n",
      "          contains(corn) = True            grain : crude  =     70.0 : 1.0\n",
      "         contains(crude) = True            crude : grain  =     50.0 : 1.0\n",
      "     contains(petroleum) = True            crude : grain  =     28.1 : 1.0\n",
      "      contains(drilling) = True            crude : grain  =     24.0 : 1.0\n",
      "        contains(energy) = True            crude : grain  =     20.9 : 1.0\n",
      "       contains(soybean) = True            grain : crude  =     20.7 : 1.0\n",
      "           contains(oil) = True            crude : grain  =     18.8 : 1.0\n",
      "       contains(farmers) = True            grain : crude  =     18.2 : 1.0\n"
     ]
    }
   ],
   "source": [
    "# Prepare data for 'crude' and 'grain' categories\n",
    "categories = ['crude', 'grain']\n",
    "documents = [(reuters.words(fileid), category)\n",
    "             for category in categories\n",
    "             for fileid in reuters.fileids(category)] # Every element (document) is  [[word1, word2, ....], category]\n",
    "\n",
    "random.shuffle(documents)\n",
    "\n",
    "# Feature extraction\n",
    "def document_features(document_words_as_array, word_features):\n",
    "    document_words_as_set = set(document_words_as_array)\n",
    "    features = {}\n",
    "    for word in word_features:\n",
    "        features[f'contains({word})'] = (word in document_words_as_set)\n",
    "    return features\n",
    "\n",
    "# Feature selection\n",
    "all_words = nltk.FreqDist(w.lower() for w in reuters.words(categories=categories))\n",
    "word_features = list(all_words)[:2000]\n",
    "\n",
    "# Training classifier\n",
    "featuresets = [(document_features(doc, word_features), cat) for (doc, cat) in documents] # cat = category, doc = document\n",
    "# word features are the 2000 most popular words in all of reuters headlines, \n",
    "# document_features takes each of them and checks if it is said in the headline (doc)\n",
    "\n",
    "train_size_rel = 0.75 # train on 75% of the data\n",
    "train_size_actual = int (train_size_rel * len (documents))\n",
    "train_set, test_set = featuresets[:train_size_actual], featuresets[train_size_actual:]\n",
    "classifier = NaiveBayesClassifier.train(train_set)\n",
    "\n",
    "# Evaluate classifier\n",
    "print(\"Accuracy:\", np.round(nltk.classify.accuracy(classifier, test_set), 3))\n",
    "classifier.show_most_informative_features(10)\n"
   ]
  },
  {
   "cell_type": "code",
   "execution_count": 55,
   "metadata": {},
   "outputs": [
    {
     "name": "stdout",
     "output_type": "stream",
     "text": [
      "Accuracy: 0.914\n",
      "Most Informative Features\n",
      "         contains(wheat) = True            grain : crude  =    128.9 : 1.0\n",
      "         contains(grain) = True            grain : crude  =     97.4 : 1.0\n",
      "            contains(lt) = True            crude : grain  =     86.6 : 1.0\n",
      "          contains(corn) = True            grain : crude  =     69.3 : 1.0\n",
      "         contains(crude) = True            crude : grain  =     39.5 : 1.0\n",
      "        contains(energy) = True            crude : grain  =     33.5 : 1.0\n",
      "       contains(natural) = True            crude : grain  =     24.9 : 1.0\n",
      "           contains(oil) = True            crude : grain  =     21.9 : 1.0\n",
      "      contains(drilling) = True            crude : grain  =     20.9 : 1.0\n",
      "       contains(soybean) = True            grain : crude  =     20.4 : 1.0\n"
     ]
    }
   ],
   "source": [
    "# Around 0.9 accuracy and most informative features aren't so informative. \n",
    "# Lets try that again after removing stop words\n",
    "stop_words = set(stopwords.words('english'))\n",
    "\n",
    "# Prepare data for 'crude' and 'grain' categories\n",
    "categories = ['crude', 'grain']\n",
    "documents = [(reuters.words(fileid), category)\n",
    "             for category in categories\n",
    "             for fileid in reuters.fileids(category)] # Every element (document) is  [[word1, word2, ....], category]\n",
    "\n",
    "random.shuffle(documents)\n",
    "\n",
    "# Feature extraction\n",
    "def document_features(document_words_as_array, word_features):\n",
    "    # New addition {\n",
    "     \n",
    "    words = word_tokenize(\" \".join (document_words_as_array))\n",
    "    words = [word for word in words if word.isalnum() and word.lower() not in stop_words] \n",
    "    \n",
    "    # } \n",
    "    document_words_as_set = set(words)\n",
    "    features = {}\n",
    "    for word in word_features:\n",
    "        features[f'contains({word})'] = (word in document_words_as_set)\n",
    "    return features\n",
    "\n",
    "# Feature selection\n",
    "all_words = nltk.FreqDist(w.lower() for w in reuters.words(categories=categories))\n",
    "word_features = list(all_words)[:2000]\n",
    "\n",
    "# Training classifier\n",
    "featuresets = [(document_features(doc, word_features), cat) for (doc, cat) in documents] # cat = category, doc = document\n",
    "# word features are the 2000 most popular words in all of reuters headlines, \n",
    "# document_features takes each of them and checks if it is said in the headline (doc)\n",
    "\n",
    "train_size_rel = 0.75 # train on 75% of the data\n",
    "train_size_actual = int (train_size_rel * len (documents))\n",
    "train_set, test_set = featuresets[:train_size_actual], featuresets[train_size_actual:]\n",
    "classifier = NaiveBayesClassifier.train(train_set)\n",
    "\n",
    "# Evaluate classifier\n",
    "print(\"Accuracy:\", np.round(nltk.classify.accuracy(classifier, test_set), 3))\n",
    "classifier.show_most_informative_features(10)"
   ]
  },
  {
   "cell_type": "markdown",
   "metadata": {},
   "source": [
    "### (-8"
   ]
  },
  {
   "cell_type": "markdown",
   "metadata": {},
   "source": [
    "## 2. Topic Modeling - \"grain\""
   ]
  },
  {
   "cell_type": "code",
   "execution_count": 71,
   "metadata": {},
   "outputs": [],
   "source": [
    "# Filter texts to match one category\n",
    "category = \"grain\"\n",
    "category_docs = reuters.fileids (category)\n",
    "\n",
    "# Doc 2 text\n",
    "texts = [reuters.raw(doc_id) for doc_id in category_docs]\n",
    "\n",
    "# Tokenize, remove stop words, and apply stemming and lemmatization\n",
    "stop_words = set(stopwords.words('english'))\n",
    "stemmer = PorterStemmer()\n",
    "lemmatizer = WordNetLemmatizer()\n",
    "\n",
    "def preprocess(text):\n",
    "    words = word_tokenize(text)\n",
    "    words = [word for word in words if word.isalnum() and word.lower() not in stop_words]\n",
    "    stemmed = [stemmer.stem(word) for word in words]\n",
    "    lemmatized = [lemmatizer.lemmatize(word) for word in words]\n",
    "    return stemmed, lemmatized\n",
    "\n",
    "processed_texts = [preprocess(text) for text in texts]"
   ]
  },
  {
   "cell_type": "code",
   "execution_count": 72,
   "metadata": {},
   "outputs": [
    {
     "name": "stdout",
     "output_type": "stream",
     "text": [
      "Topic 0:\n",
      "said farm year trade wheat\n",
      "Topic 1:\n",
      "said nil wheat grain crop\n",
      "Topic 2:\n",
      "tonne mln wheat said export\n",
      "Topic 3:\n",
      "said grain dlrs certificate corn\n",
      "Topic 4:\n",
      "corn said price mln usda\n"
     ]
    }
   ],
   "source": [
    "from sklearn.feature_extraction.text import CountVectorizer\n",
    "from sklearn.decomposition import LatentDirichletAllocation\n",
    "\n",
    "# Prepare lemmatized text data\n",
    "texts = [\" \".join(lemmatized_text) for stemmed_text, lemmatized_text in processed_texts]\n",
    "\n",
    "# Vectorize the text\n",
    "vectorizer = CountVectorizer(max_df= 0.95, min_df= 2, stop_words='english') # ignore tokens that appear in more than 95%, ignore tokens that appear in less than 2 documents\n",
    "dtm = vectorizer.fit_transform(texts)\n",
    "\n",
    "# Apply LDA - understand topic. for example - if the words purple, yellow and green are mentioned a lot - lda will tell us we speak about colors\n",
    "lda = LatentDirichletAllocation(n_components= 5) # 5 topics\n",
    "lda.fit(dtm)\n",
    "\n",
    "# Display topics\n",
    "def display_topics(model, feature_names, no_top_words):\n",
    "    for topic_idx, topic in enumerate(model.components_):\n",
    "        print(f\"Topic {topic_idx}:\")\n",
    "        print(\" \".join([feature_names[i] for i in topic.argsort()[:-no_top_words - 1:-1]]))\n",
    "\n",
    "no_top_words = 5\n",
    "display_topics(lda, vectorizer.get_feature_names_out(), no_top_words)\n"
   ]
  },
  {
   "cell_type": "markdown",
   "metadata": {},
   "source": [
    "## 3. Sentiment Analysis - \"crude\""
   ]
  },
  {
   "cell_type": "code",
   "execution_count": 88,
   "metadata": {},
   "outputs": [
    {
     "name": "stderr",
     "output_type": "stream",
     "text": [
      "[nltk_data] Downloading package vader_lexicon to\n",
      "[nltk_data]     /Users/eilonzohar/nltk_data...\n",
      "[nltk_data]   Package vader_lexicon is already up-to-date!\n"
     ]
    },
    {
     "data": {
      "image/png": "[encoded data removed]",
      "text/plain": [
       "<Figure size 2000x300 with 1 Axes>"
      ]
     },
     "metadata": {},
     "output_type": "display_data"
    }
   ],
   "source": [
    "from nltk.sentiment.vader import SentimentIntensityAnalyzer\n",
    "import matplotlib.pyplot as plt\n",
    "\n",
    "nltk.download('vader_lexicon') # http://eegilbert.org/papers/icwsm14.vader.hutto.pdf\n",
    "\n",
    "category = \"crude\"\n",
    "category_docs = reuters.fileids (category)\n",
    "\n",
    "# Doc 2 text\n",
    "texts = [reuters.raw(doc_id) for doc_id in category_docs]\n",
    "\n",
    "# Initialize VADER sentiment analyzer\n",
    "sid = SentimentIntensityAnalyzer()\n",
    "\n",
    "# Perform sentiment analysis\n",
    "sentiments = [sid.polarity_scores (text)['compound'] for text in texts]\n",
    "\n",
    "# Visualize sentiment distribution\n",
    "plt.figure (figsize= (20, 3))\n",
    "plt.hist (sentiments, bins=20)\n",
    "plt.title ('Sentiment Distribution in \"Crude\" Category')\n",
    "plt.xlabel ('Sentiment Score')\n",
    "plt.ylabel ('Number of Documents')\n",
    "plt.grid ()\n",
    "plt.xlim (-5, 5)\n",
    "plt.xticks ([-4 + j for j in range (3)] + [-1 + j/5 for j in range (11)] + [1 + j for j in range (3)])\n",
    "plt.show ()"
   ]
  },
  {
   "cell_type": "markdown",
   "metadata": {},
   "source": [
    "Texts that are catogerized as crude have a pretty neutral sentiment, which is expected from a stately website"
   ]
  }
 ],
 "metadata": {
  "kernelspec": {
   "display_name": "Python 3",
   "language": "python",
   "name": "python3"
  },
  "language_info": {
   "codemirror_mode": {
    "name": "ipython",
    "version": 3
   },
   "file_extension": ".py",
   "mimetype": "text/x-python",
   "name": "python",
   "nbconvert_exporter": "python",
   "pygments_lexer": "ipython3",
   "version": "3.11.5"
  }
 },
 "nbformat": 4,
 "nbformat_minor": 2
}
